{
 "cells": [
  {
   "cell_type": "code",
   "execution_count": 2,
   "id": "3baa8660",
   "metadata": {},
   "outputs": [],
   "source": [
    "import sys\n",
    "import pandas as pd\n",
    "import numpy as np\n",
    "from datetime import datetime \n",
    "from google.cloud import bigquery"
   ]
  },
  {
   "cell_type": "code",
   "execution_count": 6,
   "id": "814b7863",
   "metadata": {},
   "outputs": [],
   "source": [
    "client = bigquery.Client()"
   ]
  },
  {
   "cell_type": "code",
   "execution_count": 3,
   "id": "38cc5723",
   "metadata": {},
   "outputs": [],
   "source": [
    "# Helper functions\n",
    "def change_date(df: object)-> object:\n",
    "    df['month'] = pd.to_datetime(df['month'], format='%Y-%m-%d')\n",
    "    df['month'] = df['month'].dt.strftime('%m-%Y')\n",
    "    return df\n",
    "\n",
    "def add_fips_code(df:object)->object: \n",
    "    df['state_code'] = df['state_code'].astype('str')\n",
    "    df['county_code'] = df['county_code'].astype('str')\n",
    "\n",
    "    df['state_code'] = df['state_code'].str.zfill(2)\n",
    "    df['county_code'] = df['county_code'].str.zfill(3)\n",
    "\n",
    "    df['fips_code'] = df['state_code'] + df['county_code']\n",
    "\n",
    "    df['fips_code']= df['fips_code'].astype('int64')\n",
    "\n",
    "    return df\n"
   ]
  },
  {
   "cell_type": "code",
   "execution_count": 4,
   "id": "e3090918",
   "metadata": {
    "scrolled": true
   },
   "outputs": [
    {
     "name": "stdout",
     "output_type": "stream",
     "text": [
      "CPU times: user 2min 39s, sys: 7.2 s, total: 2min 46s\n",
      "Wall time: 6min 10s\n"
     ]
    },
    {
     "data": {
      "text/html": [
       "<div>\n",
       "<style scoped>\n",
       "    .dataframe tbody tr th:only-of-type {\n",
       "        vertical-align: middle;\n",
       "    }\n",
       "\n",
       "    .dataframe tbody tr th {\n",
       "        vertical-align: top;\n",
       "    }\n",
       "\n",
       "    .dataframe thead th {\n",
       "        text-align: right;\n",
       "    }\n",
       "</style>\n",
       "<table border=\"1\" class=\"dataframe\">\n",
       "  <thead>\n",
       "    <tr style=\"text-align: right;\">\n",
       "      <th></th>\n",
       "      <th>fips_code</th>\n",
       "      <th>state_name</th>\n",
       "      <th>county_name</th>\n",
       "      <th>parameter_name</th>\n",
       "      <th>parameter_code</th>\n",
       "      <th>avg_aqi</th>\n",
       "      <th>month</th>\n",
       "    </tr>\n",
       "  </thead>\n",
       "  <tbody>\n",
       "    <tr>\n",
       "      <th>0</th>\n",
       "      <td>1073</td>\n",
       "      <td>Alabama</td>\n",
       "      <td>Jefferson</td>\n",
       "      <td>Carbon monoxide</td>\n",
       "      <td>42101</td>\n",
       "      <td>3.746269</td>\n",
       "      <td>03-2018</td>\n",
       "    </tr>\n",
       "    <tr>\n",
       "      <th>1</th>\n",
       "      <td>2020</td>\n",
       "      <td>Alaska</td>\n",
       "      <td>Anchorage</td>\n",
       "      <td>Carbon monoxide</td>\n",
       "      <td>42101</td>\n",
       "      <td>9.225806</td>\n",
       "      <td>03-2018</td>\n",
       "    </tr>\n",
       "    <tr>\n",
       "      <th>2</th>\n",
       "      <td>2090</td>\n",
       "      <td>Alaska</td>\n",
       "      <td>Fairbanks North Star</td>\n",
       "      <td>Carbon monoxide</td>\n",
       "      <td>42101</td>\n",
       "      <td>5.814815</td>\n",
       "      <td>03-2018</td>\n",
       "    </tr>\n",
       "    <tr>\n",
       "      <th>3</th>\n",
       "      <td>4012</td>\n",
       "      <td>Arizona</td>\n",
       "      <td>La Paz</td>\n",
       "      <td>Carbon monoxide</td>\n",
       "      <td>42101</td>\n",
       "      <td>1.862069</td>\n",
       "      <td>03-2018</td>\n",
       "    </tr>\n",
       "    <tr>\n",
       "      <th>4</th>\n",
       "      <td>4013</td>\n",
       "      <td>Arizona</td>\n",
       "      <td>Maricopa</td>\n",
       "      <td>Carbon monoxide</td>\n",
       "      <td>42101</td>\n",
       "      <td>6.399194</td>\n",
       "      <td>03-2018</td>\n",
       "    </tr>\n",
       "  </tbody>\n",
       "</table>\n",
       "</div>"
      ],
      "text/plain": [
       "   fips_code state_name            county_name   parameter_name  \\\n",
       "0       1073    Alabama              Jefferson  Carbon monoxide   \n",
       "1       2020     Alaska             Anchorage   Carbon monoxide   \n",
       "2       2090     Alaska  Fairbanks North Star   Carbon monoxide   \n",
       "3       4012    Arizona                 La Paz  Carbon monoxide   \n",
       "4       4013    Arizona               Maricopa  Carbon monoxide   \n",
       "\n",
       "   parameter_code   avg_aqi    month  \n",
       "0           42101  3.746269  03-2018  \n",
       "1           42101  9.225806  03-2018  \n",
       "2           42101  5.814815  03-2018  \n",
       "3           42101  1.862069  03-2018  \n",
       "4           42101  6.399194  03-2018  "
      ]
     },
     "execution_count": 4,
     "metadata": {},
     "output_type": "execute_result"
    }
   ],
   "source": [
    "%%time\n",
    "\n",
    "pollutants = ['co','o3','no2','so2','pm25_frm']\n",
    "\n",
    "date_query = \"\"\"SELECT  state_code, county_code, parameter_code, \n",
    "                parameter_name, latitude, longitude, date_local,\n",
    "                aqi, state_name, county_name, event_type\n",
    "                FROM `bigquery-public-data.epa_historical_air_quality.pollutant_daily_summary`\n",
    "                AS pollutant WHERE pollutant.date_local BETWEEN '2010-01-01' AND '2020-12-31'\"\"\"\n",
    "\n",
    "pollutant_monthly_dict = {}\n",
    "total_data = pd.DataFrame()\n",
    "\n",
    "for p in pollutants:\n",
    "    pollutant_monthly_dict[p] = []\n",
    "    \n",
    "    q = date_query.replace(\"pollutant\", p)\n",
    "    temp = client.query(q).to_dataframe()\n",
    "    temp = temp.rename(columns={\"date_local\":\"month\"})\n",
    "    temp = change_date(temp)\n",
    "    temp = add_fips_code(temp)\n",
    "    \n",
    "    months = temp['month'].unique().tolist()\n",
    "    for m in months:\n",
    "        mdf = temp[temp.month == m]\n",
    "        agg_df = mdf.groupby(['fips_code',\n",
    "                              'state_name',\n",
    "                              'county_name', \n",
    "                             'parameter_name', \n",
    "                             'parameter_code',  ]).agg({'aqi': 'mean'}).reset_index()\n",
    "      \n",
    "        agg_df = agg_df.rename(columns={'aqi':'avg_aqi'})\n",
    "        agg_df['month'] = m      \n",
    "        pollutant_monthly_dict[p].append(agg_df)\n",
    "    \n",
    "    pollutant_monthly_dict[p] = pd.concat(pollutant_monthly_dict[p])\n",
    "    total_data = pd.concat([total_data, pollutant_monthly_dict[p]])\n",
    "    \n",
    "\n",
    "    \n",
    "total_data.reset_index(drop=True, inplace=True)\n",
    "total_data.head()"
   ]
  },
  {
   "cell_type": "code",
   "execution_count": 5,
   "id": "719b38ea",
   "metadata": {},
   "outputs": [
    {
     "name": "stdout",
     "output_type": "stream",
     "text": [
      "Size of aggregated data: 240141 rows and 7 columns\n"
     ]
    }
   ],
   "source": [
    "print(\"Size of aggregated data:\", total_data.shape[0], \"rows and\",total_data.shape[1], \"columns\")"
   ]
  },
  {
   "cell_type": "code",
   "execution_count": null,
   "id": "34f41b25",
   "metadata": {},
   "outputs": [],
   "source": [
    "# Uncomment to output a csv of the data into current directory.\n",
    "# total_data.csv(\"pollutant_data.csv\", index=False)"
   ]
  },
  {
   "cell_type": "code",
   "execution_count": null,
   "id": "1a2e32dc",
   "metadata": {},
   "outputs": [],
   "source": []
  }
 ],
 "metadata": {
  "kernelspec": {
   "display_name": "Python 3",
   "language": "python",
   "name": "python3"
  },
  "language_info": {
   "codemirror_mode": {
    "name": "ipython",
    "version": 3
   },
   "file_extension": ".py",
   "mimetype": "text/x-python",
   "name": "python",
   "nbconvert_exporter": "python",
   "pygments_lexer": "ipython3",
   "version": "3.7.10"
  }
 },
 "nbformat": 4,
 "nbformat_minor": 5
}
